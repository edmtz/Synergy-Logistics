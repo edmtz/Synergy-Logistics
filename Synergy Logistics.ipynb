{
 "cells": [
  {
   "cell_type": "markdown",
   "metadata": {},
   "source": [
    "# Synergy Logistics\n",
    "**Análisis realizado por:** González Martínez Salvador Eduardo"
   ]
  },
  {
   "cell_type": "code",
   "execution_count": 579,
   "metadata": {},
   "outputs": [],
   "source": [
    "#Librerías a utilizar\n",
    "import pandas as pd\n",
    "import numpy as np\n",
    "import matplotlib.pyplot as plt"
   ]
  },
  {
   "cell_type": "code",
   "execution_count": 668,
   "metadata": {},
   "outputs": [],
   "source": [
    "#Abrir los datos\n",
    "df = pd.read_csv('synergy_logistics_database.csv', index_col = 'register_id')"
   ]
  },
  {
   "cell_type": "markdown",
   "metadata": {},
   "source": [
    "### Rutas de importación / exportación"
   ]
  },
  {
   "cell_type": "markdown",
   "metadata": {},
   "source": [
    "#### Importación"
   ]
  },
  {
   "cell_type": "code",
   "execution_count": 598,
   "metadata": {},
   "outputs": [
    {
     "data": {
      "text/html": [
       "<div>\n",
       "<style scoped>\n",
       "    .dataframe tbody tr th:only-of-type {\n",
       "        vertical-align: middle;\n",
       "    }\n",
       "\n",
       "    .dataframe tbody tr th {\n",
       "        vertical-align: top;\n",
       "    }\n",
       "\n",
       "    .dataframe thead th {\n",
       "        text-align: right;\n",
       "    }\n",
       "</style>\n",
       "<table border=\"1\" class=\"dataframe\">\n",
       "  <thead>\n",
       "    <tr style=\"text-align: right;\">\n",
       "      <th></th>\n",
       "      <th>direction</th>\n",
       "      <th>origin</th>\n",
       "      <th>destination</th>\n",
       "      <th>year</th>\n",
       "      <th>date</th>\n",
       "      <th>product</th>\n",
       "      <th>transport_mode</th>\n",
       "      <th>company_name</th>\n",
       "      <th>total_value</th>\n",
       "    </tr>\n",
       "    <tr>\n",
       "      <th>register_id</th>\n",
       "      <th></th>\n",
       "      <th></th>\n",
       "      <th></th>\n",
       "      <th></th>\n",
       "      <th></th>\n",
       "      <th></th>\n",
       "      <th></th>\n",
       "      <th></th>\n",
       "      <th></th>\n",
       "    </tr>\n",
       "  </thead>\n",
       "  <tbody>\n",
       "    <tr>\n",
       "      <th>15409</th>\n",
       "      <td>Imports</td>\n",
       "      <td>Mexico</td>\n",
       "      <td>USA</td>\n",
       "      <td>2015</td>\n",
       "      <td>31/01/15</td>\n",
       "      <td>Cars</td>\n",
       "      <td>Rail</td>\n",
       "      <td>Honda</td>\n",
       "      <td>3000000</td>\n",
       "    </tr>\n",
       "    <tr>\n",
       "      <th>15410</th>\n",
       "      <td>Imports</td>\n",
       "      <td>Mexico</td>\n",
       "      <td>USA</td>\n",
       "      <td>2015</td>\n",
       "      <td>01/02/15</td>\n",
       "      <td>Cars</td>\n",
       "      <td>Rail</td>\n",
       "      <td>Honda</td>\n",
       "      <td>13000000</td>\n",
       "    </tr>\n",
       "    <tr>\n",
       "      <th>15411</th>\n",
       "      <td>Imports</td>\n",
       "      <td>Mexico</td>\n",
       "      <td>USA</td>\n",
       "      <td>2015</td>\n",
       "      <td>02/02/15</td>\n",
       "      <td>Cars</td>\n",
       "      <td>Rail</td>\n",
       "      <td>Honda</td>\n",
       "      <td>40000000</td>\n",
       "    </tr>\n",
       "    <tr>\n",
       "      <th>15412</th>\n",
       "      <td>Imports</td>\n",
       "      <td>Mexico</td>\n",
       "      <td>USA</td>\n",
       "      <td>2015</td>\n",
       "      <td>03/02/15</td>\n",
       "      <td>Cars</td>\n",
       "      <td>Rail</td>\n",
       "      <td>Honda</td>\n",
       "      <td>48000000</td>\n",
       "    </tr>\n",
       "    <tr>\n",
       "      <th>15413</th>\n",
       "      <td>Imports</td>\n",
       "      <td>Mexico</td>\n",
       "      <td>USA</td>\n",
       "      <td>2015</td>\n",
       "      <td>04/02/15</td>\n",
       "      <td>Cars</td>\n",
       "      <td>Rail</td>\n",
       "      <td>Honda</td>\n",
       "      <td>44000000</td>\n",
       "    </tr>\n",
       "  </tbody>\n",
       "</table>\n",
       "</div>"
      ],
      "text/plain": [
       "            direction  origin destination  year      date product  \\\n",
       "register_id                                                         \n",
       "15409         Imports  Mexico         USA  2015  31/01/15    Cars   \n",
       "15410         Imports  Mexico         USA  2015  01/02/15    Cars   \n",
       "15411         Imports  Mexico         USA  2015  02/02/15    Cars   \n",
       "15412         Imports  Mexico         USA  2015  03/02/15    Cars   \n",
       "15413         Imports  Mexico         USA  2015  04/02/15    Cars   \n",
       "\n",
       "            transport_mode company_name  total_value  \n",
       "register_id                                           \n",
       "15409                 Rail        Honda      3000000  \n",
       "15410                 Rail        Honda     13000000  \n",
       "15411                 Rail        Honda     40000000  \n",
       "15412                 Rail        Honda     48000000  \n",
       "15413                 Rail        Honda     44000000  "
      ]
     },
     "execution_count": 598,
     "metadata": {},
     "output_type": "execute_result"
    }
   ],
   "source": [
    "imports = df[df['direction'] == 'Imports'] #Obtener sólo los datos cuya dirección indica que se trata de una importación\n",
    "imports.head()"
   ]
  },
  {
   "cell_type": "code",
   "execution_count": 599,
   "metadata": {},
   "outputs": [
    {
     "data": {
      "text/html": [
       "<div>\n",
       "<style scoped>\n",
       "    .dataframe tbody tr th:only-of-type {\n",
       "        vertical-align: middle;\n",
       "    }\n",
       "\n",
       "    .dataframe tbody tr th {\n",
       "        vertical-align: top;\n",
       "    }\n",
       "\n",
       "    .dataframe thead th {\n",
       "        text-align: right;\n",
       "    }\n",
       "</style>\n",
       "<table border=\"1\" class=\"dataframe\">\n",
       "  <thead>\n",
       "    <tr style=\"text-align: right;\">\n",
       "      <th></th>\n",
       "      <th>origin</th>\n",
       "      <th>destination</th>\n",
       "    </tr>\n",
       "    <tr>\n",
       "      <th>register_id</th>\n",
       "      <th></th>\n",
       "      <th></th>\n",
       "    </tr>\n",
       "  </thead>\n",
       "  <tbody>\n",
       "    <tr>\n",
       "      <th>18305</th>\n",
       "      <td>Australia</td>\n",
       "      <td>Japan</td>\n",
       "    </tr>\n",
       "    <tr>\n",
       "      <th>18306</th>\n",
       "      <td>Australia</td>\n",
       "      <td>Japan</td>\n",
       "    </tr>\n",
       "    <tr>\n",
       "      <th>18307</th>\n",
       "      <td>Australia</td>\n",
       "      <td>Japan</td>\n",
       "    </tr>\n",
       "    <tr>\n",
       "      <th>18308</th>\n",
       "      <td>Australia</td>\n",
       "      <td>Japan</td>\n",
       "    </tr>\n",
       "    <tr>\n",
       "      <th>18309</th>\n",
       "      <td>Australia</td>\n",
       "      <td>Japan</td>\n",
       "    </tr>\n",
       "  </tbody>\n",
       "</table>\n",
       "</div>"
      ],
      "text/plain": [
       "                origin destination\n",
       "register_id                       \n",
       "18305        Australia       Japan\n",
       "18306        Australia       Japan\n",
       "18307        Australia       Japan\n",
       "18308        Australia       Japan\n",
       "18309        Australia       Japan"
      ]
     },
     "execution_count": 599,
     "metadata": {},
     "output_type": "execute_result"
    }
   ],
   "source": [
    "fluxes = imports[['origin', 'destination']] #Se trabajarán sólo con los datos de origen y destino de los flujos de importación\n",
    "fluxes = fluxes.sort_values(['origin', 'register_id'], ascending= True) #Los datos son ordenados alfabéticamente\n",
    "fluxes.head()"
   ]
  },
  {
   "cell_type": "code",
   "execution_count": 600,
   "metadata": {},
   "outputs": [],
   "source": [
    "counted_fluxes = [] #Lista que contendrá las rutas de importación únicas (sin repetir)\n",
    "counted_fluxes.append(fluxes.values.tolist()[0]) #La primera ruta de importación se añade a la lista\n",
    "counter = 1 #Al añadir una ruta, el contador incrementa de valor\n",
    "counts = [] #Lista que contiene el número de veces de cada importación (sin repetir) \n",
    "for i in fluxes.values.tolist()[1:]: #Se empieza desde el índice 1 ya que se agregó la primera ruta de importación\n",
    "    if i not in counted_fluxes:\n",
    "        counts.append(counter)\n",
    "        counted_fluxes.append(i)\n",
    "        counter = 1\n",
    "    else:\n",
    "        counter += 1\n",
    "counts.append(counter) #Se anexa a la lista el último conteo\n",
    "\n",
    "#Se juntan las rutas únicas (sin repetir) junto con el número de veces en que aparecen en el archivo csv\n",
    "for index, i in enumerate(counted_fluxes):\n",
    "    i.append(counts[index])"
   ]
  },
  {
   "cell_type": "code",
   "execution_count": 601,
   "metadata": {},
   "outputs": [
    {
     "data": {
      "text/html": [
       "<div>\n",
       "<style scoped>\n",
       "    .dataframe tbody tr th:only-of-type {\n",
       "        vertical-align: middle;\n",
       "    }\n",
       "\n",
       "    .dataframe tbody tr th {\n",
       "        vertical-align: top;\n",
       "    }\n",
       "\n",
       "    .dataframe thead th {\n",
       "        text-align: right;\n",
       "    }\n",
       "</style>\n",
       "<table border=\"1\" class=\"dataframe\">\n",
       "  <thead>\n",
       "    <tr style=\"text-align: right;\">\n",
       "      <th></th>\n",
       "      <th>origin</th>\n",
       "      <th>destination</th>\n",
       "      <th>n</th>\n",
       "    </tr>\n",
       "  </thead>\n",
       "  <tbody>\n",
       "    <tr>\n",
       "      <th>0</th>\n",
       "      <td>Australia</td>\n",
       "      <td>Japan</td>\n",
       "      <td>102</td>\n",
       "    </tr>\n",
       "    <tr>\n",
       "      <th>1</th>\n",
       "      <td>Brazil</td>\n",
       "      <td>China</td>\n",
       "      <td>113</td>\n",
       "    </tr>\n",
       "    <tr>\n",
       "      <th>2</th>\n",
       "      <td>Brazil</td>\n",
       "      <td>Germany</td>\n",
       "      <td>6</td>\n",
       "    </tr>\n",
       "    <tr>\n",
       "      <th>3</th>\n",
       "      <td>Canada</td>\n",
       "      <td>USA</td>\n",
       "      <td>47</td>\n",
       "    </tr>\n",
       "    <tr>\n",
       "      <th>4</th>\n",
       "      <td>China</td>\n",
       "      <td>USA</td>\n",
       "      <td>6</td>\n",
       "    </tr>\n",
       "  </tbody>\n",
       "</table>\n",
       "</div>"
      ],
      "text/plain": [
       "      origin destination    n\n",
       "0  Australia       Japan  102\n",
       "1     Brazil       China  113\n",
       "2     Brazil     Germany    6\n",
       "3     Canada         USA   47\n",
       "4      China         USA    6"
      ]
     },
     "execution_count": 601,
     "metadata": {},
     "output_type": "execute_result"
    }
   ],
   "source": [
    "#Rutas de importanción y frecuencia de uso (n)\n",
    "import_routes = pd.DataFrame(counted_fluxes, columns= ['origin', 'destination', 'n'])\n",
    "import_routes.head()"
   ]
  },
  {
   "cell_type": "code",
   "execution_count": 602,
   "metadata": {},
   "outputs": [
    {
     "data": {
      "text/html": [
       "<div>\n",
       "<style scoped>\n",
       "    .dataframe tbody tr th:only-of-type {\n",
       "        vertical-align: middle;\n",
       "    }\n",
       "\n",
       "    .dataframe tbody tr th {\n",
       "        vertical-align: top;\n",
       "    }\n",
       "\n",
       "    .dataframe thead th {\n",
       "        text-align: right;\n",
       "    }\n",
       "</style>\n",
       "<table border=\"1\" class=\"dataframe\">\n",
       "  <thead>\n",
       "    <tr style=\"text-align: right;\">\n",
       "      <th></th>\n",
       "      <th>origin</th>\n",
       "      <th>destination</th>\n",
       "      <th>n</th>\n",
       "    </tr>\n",
       "  </thead>\n",
       "  <tbody>\n",
       "    <tr>\n",
       "      <th>33</th>\n",
       "      <td>Singapore</td>\n",
       "      <td>Thailand</td>\n",
       "      <td>273</td>\n",
       "    </tr>\n",
       "    <tr>\n",
       "      <th>8</th>\n",
       "      <td>China</td>\n",
       "      <td>Japan</td>\n",
       "      <td>261</td>\n",
       "    </tr>\n",
       "    <tr>\n",
       "      <th>15</th>\n",
       "      <td>Germany</td>\n",
       "      <td>China</td>\n",
       "      <td>249</td>\n",
       "    </tr>\n",
       "    <tr>\n",
       "      <th>25</th>\n",
       "      <td>Malaysia</td>\n",
       "      <td>Thailand</td>\n",
       "      <td>195</td>\n",
       "    </tr>\n",
       "    <tr>\n",
       "      <th>31</th>\n",
       "      <td>Mexico</td>\n",
       "      <td>China</td>\n",
       "      <td>161</td>\n",
       "    </tr>\n",
       "    <tr>\n",
       "      <th>11</th>\n",
       "      <td>France</td>\n",
       "      <td>Germany</td>\n",
       "      <td>146</td>\n",
       "    </tr>\n",
       "    <tr>\n",
       "      <th>7</th>\n",
       "      <td>China</td>\n",
       "      <td>Thailand</td>\n",
       "      <td>141</td>\n",
       "    </tr>\n",
       "    <tr>\n",
       "      <th>39</th>\n",
       "      <td>Spain</td>\n",
       "      <td>Mexico</td>\n",
       "      <td>123</td>\n",
       "    </tr>\n",
       "    <tr>\n",
       "      <th>23</th>\n",
       "      <td>Japan</td>\n",
       "      <td>Canada</td>\n",
       "      <td>120</td>\n",
       "    </tr>\n",
       "    <tr>\n",
       "      <th>19</th>\n",
       "      <td>Japan</td>\n",
       "      <td>Mexico</td>\n",
       "      <td>115</td>\n",
       "    </tr>\n",
       "  </tbody>\n",
       "</table>\n",
       "</div>"
      ],
      "text/plain": [
       "       origin destination    n\n",
       "33  Singapore    Thailand  273\n",
       "8       China       Japan  261\n",
       "15    Germany       China  249\n",
       "25   Malaysia    Thailand  195\n",
       "31     Mexico       China  161\n",
       "11     France     Germany  146\n",
       "7       China    Thailand  141\n",
       "39      Spain      Mexico  123\n",
       "23      Japan      Canada  120\n",
       "19      Japan      Mexico  115"
      ]
     },
     "execution_count": 602,
     "metadata": {},
     "output_type": "execute_result"
    }
   ],
   "source": [
    "#Las 10 rutas de importanción más utilizadas \n",
    "import_routes = import_routes.sort_values('n', ascending = False)\n",
    "import_routes.head(10)"
   ]
  },
  {
   "cell_type": "markdown",
   "metadata": {},
   "source": [
    "#### Exportación"
   ]
  },
  {
   "cell_type": "code",
   "execution_count": 603,
   "metadata": {},
   "outputs": [
    {
     "data": {
      "text/html": [
       "<div>\n",
       "<style scoped>\n",
       "    .dataframe tbody tr th:only-of-type {\n",
       "        vertical-align: middle;\n",
       "    }\n",
       "\n",
       "    .dataframe tbody tr th {\n",
       "        vertical-align: top;\n",
       "    }\n",
       "\n",
       "    .dataframe thead th {\n",
       "        text-align: right;\n",
       "    }\n",
       "</style>\n",
       "<table border=\"1\" class=\"dataframe\">\n",
       "  <thead>\n",
       "    <tr style=\"text-align: right;\">\n",
       "      <th></th>\n",
       "      <th>direction</th>\n",
       "      <th>origin</th>\n",
       "      <th>destination</th>\n",
       "      <th>year</th>\n",
       "      <th>date</th>\n",
       "      <th>product</th>\n",
       "      <th>transport_mode</th>\n",
       "      <th>company_name</th>\n",
       "      <th>total_value</th>\n",
       "    </tr>\n",
       "    <tr>\n",
       "      <th>register_id</th>\n",
       "      <th></th>\n",
       "      <th></th>\n",
       "      <th></th>\n",
       "      <th></th>\n",
       "      <th></th>\n",
       "      <th></th>\n",
       "      <th></th>\n",
       "      <th></th>\n",
       "      <th></th>\n",
       "    </tr>\n",
       "  </thead>\n",
       "  <tbody>\n",
       "    <tr>\n",
       "      <th>1</th>\n",
       "      <td>Exports</td>\n",
       "      <td>Japan</td>\n",
       "      <td>China</td>\n",
       "      <td>2015</td>\n",
       "      <td>31/01/15</td>\n",
       "      <td>Cars</td>\n",
       "      <td>Sea</td>\n",
       "      <td>Honda</td>\n",
       "      <td>33000000</td>\n",
       "    </tr>\n",
       "    <tr>\n",
       "      <th>2</th>\n",
       "      <td>Exports</td>\n",
       "      <td>Japan</td>\n",
       "      <td>China</td>\n",
       "      <td>2015</td>\n",
       "      <td>01/02/15</td>\n",
       "      <td>Cars</td>\n",
       "      <td>Sea</td>\n",
       "      <td>Honda</td>\n",
       "      <td>16000000</td>\n",
       "    </tr>\n",
       "    <tr>\n",
       "      <th>3</th>\n",
       "      <td>Exports</td>\n",
       "      <td>Japan</td>\n",
       "      <td>China</td>\n",
       "      <td>2015</td>\n",
       "      <td>02/02/15</td>\n",
       "      <td>Cars</td>\n",
       "      <td>Sea</td>\n",
       "      <td>Honda</td>\n",
       "      <td>29000000</td>\n",
       "    </tr>\n",
       "    <tr>\n",
       "      <th>4</th>\n",
       "      <td>Exports</td>\n",
       "      <td>Japan</td>\n",
       "      <td>China</td>\n",
       "      <td>2015</td>\n",
       "      <td>03/02/15</td>\n",
       "      <td>Cars</td>\n",
       "      <td>Sea</td>\n",
       "      <td>Honda</td>\n",
       "      <td>14000000</td>\n",
       "    </tr>\n",
       "    <tr>\n",
       "      <th>5</th>\n",
       "      <td>Exports</td>\n",
       "      <td>Japan</td>\n",
       "      <td>China</td>\n",
       "      <td>2015</td>\n",
       "      <td>04/02/15</td>\n",
       "      <td>Cars</td>\n",
       "      <td>Sea</td>\n",
       "      <td>Honda</td>\n",
       "      <td>17000000</td>\n",
       "    </tr>\n",
       "  </tbody>\n",
       "</table>\n",
       "</div>"
      ],
      "text/plain": [
       "            direction origin destination  year      date product  \\\n",
       "register_id                                                        \n",
       "1             Exports  Japan       China  2015  31/01/15    Cars   \n",
       "2             Exports  Japan       China  2015  01/02/15    Cars   \n",
       "3             Exports  Japan       China  2015  02/02/15    Cars   \n",
       "4             Exports  Japan       China  2015  03/02/15    Cars   \n",
       "5             Exports  Japan       China  2015  04/02/15    Cars   \n",
       "\n",
       "            transport_mode company_name  total_value  \n",
       "register_id                                           \n",
       "1                      Sea        Honda     33000000  \n",
       "2                      Sea        Honda     16000000  \n",
       "3                      Sea        Honda     29000000  \n",
       "4                      Sea        Honda     14000000  \n",
       "5                      Sea        Honda     17000000  "
      ]
     },
     "execution_count": 603,
     "metadata": {},
     "output_type": "execute_result"
    }
   ],
   "source": [
    "exports = df[df['direction'] == 'Exports'] #Obtener sólo los datos cuya dirección indica que se trata de una exportación\n",
    "exports.head()"
   ]
  },
  {
   "cell_type": "code",
   "execution_count": 604,
   "metadata": {},
   "outputs": [
    {
     "data": {
      "text/html": [
       "<div>\n",
       "<style scoped>\n",
       "    .dataframe tbody tr th:only-of-type {\n",
       "        vertical-align: middle;\n",
       "    }\n",
       "\n",
       "    .dataframe tbody tr th {\n",
       "        vertical-align: top;\n",
       "    }\n",
       "\n",
       "    .dataframe thead th {\n",
       "        text-align: right;\n",
       "    }\n",
       "</style>\n",
       "<table border=\"1\" class=\"dataframe\">\n",
       "  <thead>\n",
       "    <tr style=\"text-align: right;\">\n",
       "      <th></th>\n",
       "      <th>origin</th>\n",
       "      <th>destination</th>\n",
       "    </tr>\n",
       "    <tr>\n",
       "      <th>register_id</th>\n",
       "      <th></th>\n",
       "      <th></th>\n",
       "    </tr>\n",
       "  </thead>\n",
       "  <tbody>\n",
       "    <tr>\n",
       "      <th>9214</th>\n",
       "      <td>Australia</td>\n",
       "      <td>Singapore</td>\n",
       "    </tr>\n",
       "    <tr>\n",
       "      <th>9215</th>\n",
       "      <td>Australia</td>\n",
       "      <td>Singapore</td>\n",
       "    </tr>\n",
       "    <tr>\n",
       "      <th>9216</th>\n",
       "      <td>Australia</td>\n",
       "      <td>Singapore</td>\n",
       "    </tr>\n",
       "    <tr>\n",
       "      <th>9217</th>\n",
       "      <td>Australia</td>\n",
       "      <td>Singapore</td>\n",
       "    </tr>\n",
       "    <tr>\n",
       "      <th>9218</th>\n",
       "      <td>Australia</td>\n",
       "      <td>Singapore</td>\n",
       "    </tr>\n",
       "  </tbody>\n",
       "</table>\n",
       "</div>"
      ],
      "text/plain": [
       "                origin destination\n",
       "register_id                       \n",
       "9214         Australia   Singapore\n",
       "9215         Australia   Singapore\n",
       "9216         Australia   Singapore\n",
       "9217         Australia   Singapore\n",
       "9218         Australia   Singapore"
      ]
     },
     "execution_count": 604,
     "metadata": {},
     "output_type": "execute_result"
    }
   ],
   "source": [
    "fluxes = exports[['origin', 'destination']] #Se trabajarán sólo con los datos de origen y destino de los flujos de exportación\n",
    "fluxes = fluxes.sort_values(['origin', 'register_id'], ascending= True) #Los datos son ordenados alfabéticamente\n",
    "fluxes.head()"
   ]
  },
  {
   "cell_type": "code",
   "execution_count": 605,
   "metadata": {},
   "outputs": [],
   "source": [
    "counted_fluxes = [] #Lista que contendrá las rutas de exportación únicas (sin repetir)\n",
    "counted_fluxes.append(fluxes.values.tolist()[0]) #La primera ruta de exportación se añade a la lista\n",
    "counter = 1 #Al añadir una ruta, el contador incrementa de valor\n",
    "counts = [] #Lista que contiene el número de veces de cada exportación (sin repetir) \n",
    "for i in fluxes.values.tolist()[1:]: #Se empieza desde el índice 1 ya que se agregó la primera ruta de exportación\n",
    "    if i not in counted_fluxes:\n",
    "        counts.append(counter)\n",
    "        counted_fluxes.append(i)\n",
    "        counter = 1\n",
    "    else:\n",
    "        counter += 1\n",
    "counts.append(counter) #Se anexa a la lista el último conteo\n",
    "\n",
    "#Se juntan las rutas únicas (sin repetir) junto con el número de veces en que aparecen en el archivo csv\n",
    "for index, i in enumerate(counted_fluxes):\n",
    "    i.append(counts[index])"
   ]
  },
  {
   "cell_type": "code",
   "execution_count": 606,
   "metadata": {},
   "outputs": [
    {
     "data": {
      "text/html": [
       "<div>\n",
       "<style scoped>\n",
       "    .dataframe tbody tr th:only-of-type {\n",
       "        vertical-align: middle;\n",
       "    }\n",
       "\n",
       "    .dataframe tbody tr th {\n",
       "        vertical-align: top;\n",
       "    }\n",
       "\n",
       "    .dataframe thead th {\n",
       "        text-align: right;\n",
       "    }\n",
       "</style>\n",
       "<table border=\"1\" class=\"dataframe\">\n",
       "  <thead>\n",
       "    <tr style=\"text-align: right;\">\n",
       "      <th></th>\n",
       "      <th>origin</th>\n",
       "      <th>destination</th>\n",
       "      <th>n</th>\n",
       "    </tr>\n",
       "  </thead>\n",
       "  <tbody>\n",
       "    <tr>\n",
       "      <th>0</th>\n",
       "      <td>Australia</td>\n",
       "      <td>Singapore</td>\n",
       "      <td>92</td>\n",
       "    </tr>\n",
       "    <tr>\n",
       "      <th>1</th>\n",
       "      <td>Australia</td>\n",
       "      <td>United Kingdom</td>\n",
       "      <td>81</td>\n",
       "    </tr>\n",
       "    <tr>\n",
       "      <th>2</th>\n",
       "      <td>Australia</td>\n",
       "      <td>Thailand</td>\n",
       "      <td>100</td>\n",
       "    </tr>\n",
       "    <tr>\n",
       "      <th>3</th>\n",
       "      <td>Australia</td>\n",
       "      <td>Brazil</td>\n",
       "      <td>202</td>\n",
       "    </tr>\n",
       "    <tr>\n",
       "      <th>4</th>\n",
       "      <td>Australia</td>\n",
       "      <td>Mexico</td>\n",
       "      <td>242</td>\n",
       "    </tr>\n",
       "  </tbody>\n",
       "</table>\n",
       "</div>"
      ],
      "text/plain": [
       "      origin     destination    n\n",
       "0  Australia       Singapore   92\n",
       "1  Australia  United Kingdom   81\n",
       "2  Australia        Thailand  100\n",
       "3  Australia          Brazil  202\n",
       "4  Australia          Mexico  242"
      ]
     },
     "execution_count": 606,
     "metadata": {},
     "output_type": "execute_result"
    }
   ],
   "source": [
    "#Rutas de exportación y frecuencia de uso (n)\n",
    "export_routes = pd.DataFrame(counted_fluxes, columns= ['origin', 'destination', 'n'])\n",
    "export_routes.head()"
   ]
  },
  {
   "cell_type": "code",
   "execution_count": 607,
   "metadata": {},
   "outputs": [
    {
     "data": {
      "text/html": [
       "<div>\n",
       "<style scoped>\n",
       "    .dataframe tbody tr th:only-of-type {\n",
       "        vertical-align: middle;\n",
       "    }\n",
       "\n",
       "    .dataframe tbody tr th {\n",
       "        vertical-align: top;\n",
       "    }\n",
       "\n",
       "    .dataframe thead th {\n",
       "        text-align: right;\n",
       "    }\n",
       "</style>\n",
       "<table border=\"1\" class=\"dataframe\">\n",
       "  <thead>\n",
       "    <tr style=\"text-align: right;\">\n",
       "      <th></th>\n",
       "      <th>origin</th>\n",
       "      <th>destination</th>\n",
       "      <th>n</th>\n",
       "    </tr>\n",
       "  </thead>\n",
       "  <tbody>\n",
       "    <tr>\n",
       "      <th>96</th>\n",
       "      <td>Netherlands</td>\n",
       "      <td>Belgium</td>\n",
       "      <td>520</td>\n",
       "    </tr>\n",
       "    <tr>\n",
       "      <th>56</th>\n",
       "      <td>Germany</td>\n",
       "      <td>South Korea</td>\n",
       "      <td>513</td>\n",
       "    </tr>\n",
       "    <tr>\n",
       "      <th>116</th>\n",
       "      <td>South Korea</td>\n",
       "      <td>Vietnam</td>\n",
       "      <td>493</td>\n",
       "    </tr>\n",
       "    <tr>\n",
       "      <th>136</th>\n",
       "      <td>USA</td>\n",
       "      <td>Netherlands</td>\n",
       "      <td>436</td>\n",
       "    </tr>\n",
       "    <tr>\n",
       "      <th>143</th>\n",
       "      <td>United Kingdom</td>\n",
       "      <td>USA</td>\n",
       "      <td>409</td>\n",
       "    </tr>\n",
       "    <tr>\n",
       "      <th>31</th>\n",
       "      <td>China</td>\n",
       "      <td>Mexico</td>\n",
       "      <td>374</td>\n",
       "    </tr>\n",
       "    <tr>\n",
       "      <th>115</th>\n",
       "      <td>South Korea</td>\n",
       "      <td>Japan</td>\n",
       "      <td>352</td>\n",
       "    </tr>\n",
       "    <tr>\n",
       "      <th>42</th>\n",
       "      <td>France</td>\n",
       "      <td>Belgium</td>\n",
       "      <td>346</td>\n",
       "    </tr>\n",
       "    <tr>\n",
       "      <th>80</th>\n",
       "      <td>Japan</td>\n",
       "      <td>Mexico</td>\n",
       "      <td>341</td>\n",
       "    </tr>\n",
       "    <tr>\n",
       "      <th>35</th>\n",
       "      <td>China</td>\n",
       "      <td>Belgium</td>\n",
       "      <td>299</td>\n",
       "    </tr>\n",
       "  </tbody>\n",
       "</table>\n",
       "</div>"
      ],
      "text/plain": [
       "             origin  destination    n\n",
       "96      Netherlands      Belgium  520\n",
       "56          Germany  South Korea  513\n",
       "116     South Korea      Vietnam  493\n",
       "136             USA  Netherlands  436\n",
       "143  United Kingdom          USA  409\n",
       "31            China       Mexico  374\n",
       "115     South Korea        Japan  352\n",
       "42           France      Belgium  346\n",
       "80            Japan       Mexico  341\n",
       "35            China      Belgium  299"
      ]
     },
     "execution_count": 607,
     "metadata": {},
     "output_type": "execute_result"
    }
   ],
   "source": [
    "#Las 10 rutas de exportación más utilizadas \n",
    "export_routes = export_routes.sort_values('n', ascending = False)\n",
    "export_routes.head(10)"
   ]
  },
  {
   "cell_type": "markdown",
   "metadata": {},
   "source": [
    "#### Importación / Exportación"
   ]
  },
  {
   "cell_type": "code",
   "execution_count": 611,
   "metadata": {},
   "outputs": [
    {
     "data": {
      "text/html": [
       "<div>\n",
       "<style scoped>\n",
       "    .dataframe tbody tr th:only-of-type {\n",
       "        vertical-align: middle;\n",
       "    }\n",
       "\n",
       "    .dataframe tbody tr th {\n",
       "        vertical-align: top;\n",
       "    }\n",
       "\n",
       "    .dataframe thead th {\n",
       "        text-align: right;\n",
       "    }\n",
       "</style>\n",
       "<table border=\"1\" class=\"dataframe\">\n",
       "  <thead>\n",
       "    <tr style=\"text-align: right;\">\n",
       "      <th></th>\n",
       "      <th>origin</th>\n",
       "      <th>destination</th>\n",
       "      <th>n</th>\n",
       "    </tr>\n",
       "  </thead>\n",
       "  <tbody>\n",
       "    <tr>\n",
       "      <th>96</th>\n",
       "      <td>Netherlands</td>\n",
       "      <td>Belgium</td>\n",
       "      <td>520</td>\n",
       "    </tr>\n",
       "    <tr>\n",
       "      <th>56</th>\n",
       "      <td>Germany</td>\n",
       "      <td>South Korea</td>\n",
       "      <td>513</td>\n",
       "    </tr>\n",
       "    <tr>\n",
       "      <th>116</th>\n",
       "      <td>South Korea</td>\n",
       "      <td>Vietnam</td>\n",
       "      <td>493</td>\n",
       "    </tr>\n",
       "    <tr>\n",
       "      <th>136</th>\n",
       "      <td>USA</td>\n",
       "      <td>Netherlands</td>\n",
       "      <td>436</td>\n",
       "    </tr>\n",
       "    <tr>\n",
       "      <th>143</th>\n",
       "      <td>United Kingdom</td>\n",
       "      <td>USA</td>\n",
       "      <td>409</td>\n",
       "    </tr>\n",
       "    <tr>\n",
       "      <th>31</th>\n",
       "      <td>China</td>\n",
       "      <td>Mexico</td>\n",
       "      <td>374</td>\n",
       "    </tr>\n",
       "    <tr>\n",
       "      <th>115</th>\n",
       "      <td>South Korea</td>\n",
       "      <td>Japan</td>\n",
       "      <td>352</td>\n",
       "    </tr>\n",
       "    <tr>\n",
       "      <th>42</th>\n",
       "      <td>France</td>\n",
       "      <td>Belgium</td>\n",
       "      <td>346</td>\n",
       "    </tr>\n",
       "    <tr>\n",
       "      <th>80</th>\n",
       "      <td>Japan</td>\n",
       "      <td>Mexico</td>\n",
       "      <td>341</td>\n",
       "    </tr>\n",
       "    <tr>\n",
       "      <th>35</th>\n",
       "      <td>China</td>\n",
       "      <td>Belgium</td>\n",
       "      <td>299</td>\n",
       "    </tr>\n",
       "  </tbody>\n",
       "</table>\n",
       "</div>"
      ],
      "text/plain": [
       "             origin  destination    n\n",
       "96      Netherlands      Belgium  520\n",
       "56          Germany  South Korea  513\n",
       "116     South Korea      Vietnam  493\n",
       "136             USA  Netherlands  436\n",
       "143  United Kingdom          USA  409\n",
       "31            China       Mexico  374\n",
       "115     South Korea        Japan  352\n",
       "42           France      Belgium  346\n",
       "80            Japan       Mexico  341\n",
       "35            China      Belgium  299"
      ]
     },
     "execution_count": 611,
     "metadata": {},
     "output_type": "execute_result"
    }
   ],
   "source": [
    "#Las 10 rutas con mayor flujo (considerando importaciones y exportaciones)\n",
    "routes = pd.concat([import_routes, export_routes]).sort_values('n', ascending = False)\n",
    "routes.head(10)"
   ]
  },
  {
   "cell_type": "markdown",
   "metadata": {},
   "source": [
    "### Medio de transporte utilizado"
   ]
  },
  {
   "cell_type": "code",
   "execution_count": 472,
   "metadata": {},
   "outputs": [
    {
     "name": "stdout",
     "output_type": "stream",
     "text": [
      "Los medios de transporte son Sea, Air, Rail y Road\n"
     ]
    }
   ],
   "source": [
    "#Modos de transporte de Synergy Logistics\n",
    "transport = df['transport_mode'].unique().tolist()\n",
    "print('Los medios de transporte son {}, {}, {} y {}'.format(transport[0], transport[1],\n",
    "                                                            transport[2], transport[3]))"
   ]
  },
  {
   "cell_type": "code",
   "execution_count": 473,
   "metadata": {},
   "outputs": [
    {
     "data": {
      "text/html": [
       "<div>\n",
       "<style scoped>\n",
       "    .dataframe tbody tr th:only-of-type {\n",
       "        vertical-align: middle;\n",
       "    }\n",
       "\n",
       "    .dataframe tbody tr th {\n",
       "        vertical-align: top;\n",
       "    }\n",
       "\n",
       "    .dataframe thead th {\n",
       "        text-align: right;\n",
       "    }\n",
       "</style>\n",
       "<table border=\"1\" class=\"dataframe\">\n",
       "  <thead>\n",
       "    <tr style=\"text-align: right;\">\n",
       "      <th></th>\n",
       "      <th>direction</th>\n",
       "      <th>origin</th>\n",
       "      <th>destination</th>\n",
       "      <th>year</th>\n",
       "      <th>date</th>\n",
       "      <th>product</th>\n",
       "      <th>transport_mode</th>\n",
       "      <th>company_name</th>\n",
       "      <th>total_value</th>\n",
       "    </tr>\n",
       "    <tr>\n",
       "      <th>register_id</th>\n",
       "      <th></th>\n",
       "      <th></th>\n",
       "      <th></th>\n",
       "      <th></th>\n",
       "      <th></th>\n",
       "      <th></th>\n",
       "      <th></th>\n",
       "      <th></th>\n",
       "      <th></th>\n",
       "    </tr>\n",
       "  </thead>\n",
       "  <tbody>\n",
       "    <tr>\n",
       "      <th>9</th>\n",
       "      <td>Exports</td>\n",
       "      <td>Japan</td>\n",
       "      <td>USA</td>\n",
       "      <td>2015</td>\n",
       "      <td>08/02/15</td>\n",
       "      <td>Machinery and electronics</td>\n",
       "      <td>Air</td>\n",
       "      <td>ReachExt J.J</td>\n",
       "      <td>15000000</td>\n",
       "    </tr>\n",
       "    <tr>\n",
       "      <th>10</th>\n",
       "      <td>Exports</td>\n",
       "      <td>Japan</td>\n",
       "      <td>USA</td>\n",
       "      <td>2015</td>\n",
       "      <td>09/02/15</td>\n",
       "      <td>Machinery and electronics</td>\n",
       "      <td>Air</td>\n",
       "      <td>ReachExt J.J</td>\n",
       "      <td>31000000</td>\n",
       "    </tr>\n",
       "    <tr>\n",
       "      <th>11</th>\n",
       "      <td>Exports</td>\n",
       "      <td>Japan</td>\n",
       "      <td>USA</td>\n",
       "      <td>2015</td>\n",
       "      <td>10/02/15</td>\n",
       "      <td>Machinery and electronics</td>\n",
       "      <td>Air</td>\n",
       "      <td>ReachExt J.J</td>\n",
       "      <td>12000000</td>\n",
       "    </tr>\n",
       "    <tr>\n",
       "      <th>12</th>\n",
       "      <td>Exports</td>\n",
       "      <td>Japan</td>\n",
       "      <td>USA</td>\n",
       "      <td>2015</td>\n",
       "      <td>11/02/15</td>\n",
       "      <td>Machinery and electronics</td>\n",
       "      <td>Air</td>\n",
       "      <td>ReachExt J.J</td>\n",
       "      <td>10000000</td>\n",
       "    </tr>\n",
       "    <tr>\n",
       "      <th>13</th>\n",
       "      <td>Exports</td>\n",
       "      <td>Japan</td>\n",
       "      <td>USA</td>\n",
       "      <td>2015</td>\n",
       "      <td>12/02/15</td>\n",
       "      <td>Machinery and electronics</td>\n",
       "      <td>Air</td>\n",
       "      <td>ReachExt J.J</td>\n",
       "      <td>28000000</td>\n",
       "    </tr>\n",
       "  </tbody>\n",
       "</table>\n",
       "</div>"
      ],
      "text/plain": [
       "            direction origin destination  year      date  \\\n",
       "register_id                                                \n",
       "9             Exports  Japan         USA  2015  08/02/15   \n",
       "10            Exports  Japan         USA  2015  09/02/15   \n",
       "11            Exports  Japan         USA  2015  10/02/15   \n",
       "12            Exports  Japan         USA  2015  11/02/15   \n",
       "13            Exports  Japan         USA  2015  12/02/15   \n",
       "\n",
       "                               product transport_mode  company_name  \\\n",
       "register_id                                                           \n",
       "9            Machinery and electronics            Air  ReachExt J.J   \n",
       "10           Machinery and electronics            Air  ReachExt J.J   \n",
       "11           Machinery and electronics            Air  ReachExt J.J   \n",
       "12           Machinery and electronics            Air  ReachExt J.J   \n",
       "13           Machinery and electronics            Air  ReachExt J.J   \n",
       "\n",
       "             total_value  \n",
       "register_id               \n",
       "9               15000000  \n",
       "10              31000000  \n",
       "11              12000000  \n",
       "12              10000000  \n",
       "13              28000000  "
      ]
     },
     "execution_count": 473,
     "metadata": {},
     "output_type": "execute_result"
    }
   ],
   "source": [
    "df_sorted = df.sort_values(['transport_mode', 'register_id']) #Se ordena alfabéticamente los modos de transporte y después su ID\n",
    "df_sorted.head(5)"
   ]
  },
  {
   "cell_type": "markdown",
   "metadata": {},
   "source": [
    "#### Air"
   ]
  },
  {
   "cell_type": "code",
   "execution_count": 481,
   "metadata": {},
   "outputs": [
    {
     "name": "stdout",
     "output_type": "stream",
     "text": [
      "El valor total generado por el modo de transporte \"Air\" fue de 38262147000\n"
     ]
    }
   ],
   "source": [
    "#Valor generado por los medios de transporte tipo Air\n",
    "air = df_sorted[df_sorted['transport_mode'] == 'Air']\n",
    "air_profit = air['total_value'].sum()\n",
    "print('El valor total generado por el modo de transporte \"Air\" fue de {}'.format(air_profit))"
   ]
  },
  {
   "cell_type": "markdown",
   "metadata": {},
   "source": [
    "#### Rail"
   ]
  },
  {
   "cell_type": "code",
   "execution_count": 483,
   "metadata": {},
   "outputs": [
    {
     "name": "stdout",
     "output_type": "stream",
     "text": [
      "El valor total generado por el modo de transporte \"Rail\" fue de 43628043000\n"
     ]
    }
   ],
   "source": [
    "#Valor generado por los medios de transporte tipo Rail\n",
    "rail = df_sorted[df_sorted['transport_mode'] == 'Rail']\n",
    "rail_profit = rail['total_value'].sum()\n",
    "print('El valor total generado por el modo de transporte \"Rail\" fue de {}'.format(rail_profit))"
   ]
  },
  {
   "cell_type": "markdown",
   "metadata": {},
   "source": [
    "#### Road"
   ]
  },
  {
   "cell_type": "code",
   "execution_count": 485,
   "metadata": {},
   "outputs": [
    {
     "name": "stdout",
     "output_type": "stream",
     "text": [
      "El valor total generado por el modo de transporte \"Road\" fue de 33270486000\n"
     ]
    }
   ],
   "source": [
    "#Valor generado por los medios de transporte tipo Road\n",
    "road = df_sorted[df_sorted['transport_mode'] == 'Road']\n",
    "road_profit = road['total_value'].sum()\n",
    "print('El valor total generado por el modo de transporte \"Road\" fue de {}'.format(road_profit))"
   ]
  },
  {
   "cell_type": "markdown",
   "metadata": {},
   "source": [
    "#### Sea"
   ]
  },
  {
   "cell_type": "code",
   "execution_count": 487,
   "metadata": {},
   "outputs": [
    {
     "name": "stdout",
     "output_type": "stream",
     "text": [
      "El valor total generado por el modo de transporte \"Sea\" fue de 100530622000\n"
     ]
    }
   ],
   "source": [
    "#Valor generado por los medios de transporte tipo Sea\n",
    "sea = df_sorted[df_sorted['transport_mode'] == 'Sea']\n",
    "sea_profit = sea['total_value'].sum()\n",
    "print('El valor total generado por el modo de transporte \"Sea\" fue de {}'.format(sea_profit))"
   ]
  },
  {
   "cell_type": "markdown",
   "metadata": {},
   "source": [
    "#### Air, Rail, Road, Sea"
   ]
  },
  {
   "cell_type": "code",
   "execution_count": 494,
   "metadata": {},
   "outputs": [
    {
     "data": {
      "text/html": [
       "<div>\n",
       "<style scoped>\n",
       "    .dataframe tbody tr th:only-of-type {\n",
       "        vertical-align: middle;\n",
       "    }\n",
       "\n",
       "    .dataframe tbody tr th {\n",
       "        vertical-align: top;\n",
       "    }\n",
       "\n",
       "    .dataframe thead th {\n",
       "        text-align: right;\n",
       "    }\n",
       "</style>\n",
       "<table border=\"1\" class=\"dataframe\">\n",
       "  <thead>\n",
       "    <tr style=\"text-align: right;\">\n",
       "      <th></th>\n",
       "      <th>Mode</th>\n",
       "      <th>Total</th>\n",
       "    </tr>\n",
       "  </thead>\n",
       "  <tbody>\n",
       "    <tr>\n",
       "      <th>3</th>\n",
       "      <td>Sea</td>\n",
       "      <td>100530622000</td>\n",
       "    </tr>\n",
       "    <tr>\n",
       "      <th>1</th>\n",
       "      <td>Rail</td>\n",
       "      <td>43628043000</td>\n",
       "    </tr>\n",
       "    <tr>\n",
       "      <th>0</th>\n",
       "      <td>Air</td>\n",
       "      <td>38262147000</td>\n",
       "    </tr>\n",
       "    <tr>\n",
       "      <th>2</th>\n",
       "      <td>Road</td>\n",
       "      <td>33270486000</td>\n",
       "    </tr>\n",
       "  </tbody>\n",
       "</table>\n",
       "</div>"
      ],
      "text/plain": [
       "   Mode         Total\n",
       "3   Sea  100530622000\n",
       "1  Rail   43628043000\n",
       "0   Air   38262147000\n",
       "2  Road   33270486000"
      ]
     },
     "execution_count": 494,
     "metadata": {},
     "output_type": "execute_result"
    }
   ],
   "source": [
    "#Top 3 mejores medios de transporte \n",
    "transport_modes=pd.DataFrame([['Air',air_profit], ['Rail',rail_profit], ['Road',road_profit], ['Sea',sea_profit]], columns=['Mode','Total'])\n",
    "#Ordenar de mayor a menor\n",
    "transport_modes.sort_values('Total', ascending = False)"
   ]
  },
  {
   "cell_type": "code",
   "execution_count": 662,
   "metadata": {},
   "outputs": [],
   "source": [
    "#Porcentajes de contribución de ganancias de todos los medios de transporte \n",
    "total_transport_modes = transport_modes['Total'].sum()\n",
    "sea_percentage = (transport_modes[transport_modes['Mode'] == 'Sea']['Total'] / total_transport_modes).to_numpy()\n",
    "rail_percentage = (transport_modes[transport_modes['Mode'] == 'Rail']['Total'] / total_transport_modes).to_numpy()\n",
    "air_percentage = (transport_modes[transport_modes['Mode'] == 'Air']['Total'] / total_transport_modes).to_numpy()\n",
    "road_percentage = (transport_modes[transport_modes['Mode'] == 'Road']['Total'] / total_transport_modes).to_numpy()"
   ]
  },
  {
   "cell_type": "code",
   "execution_count": 665,
   "metadata": {},
   "outputs": [
    {
     "name": "stdout",
     "output_type": "stream",
     "text": [
      "Sea: 0.46608566470771573\n",
      "Rail: 0.20227076105777805\n",
      "Air: 0.1773930953857953\n",
      "Road: 0.1542504788487109\n"
     ]
    }
   ],
   "source": [
    "print('Sea: {}\\nRail: {}\\nAir: {}\\nRoad: {}'.format(sea_percentage[0], rail_percentage[0], air_percentage[0], road_percentage[0]))"
   ]
  },
  {
   "cell_type": "markdown",
   "metadata": {},
   "source": [
    "### Valor total de importaciones y exportaciones"
   ]
  },
  {
   "cell_type": "code",
   "execution_count": 511,
   "metadata": {},
   "outputs": [
    {
     "data": {
      "text/plain": [
       "array(['Argentina', 'Australia', 'Austria', 'Belgium', 'Belorussia',\n",
       "       'Brazil', 'Canada', 'China', 'Croatia', 'France', 'Germany',\n",
       "       'India', 'Ireland', 'Italy', 'Japan', 'Malaysia', 'Mexico',\n",
       "       'Netherlands', 'New Zealand', 'Peru', 'Philippines', 'Poland',\n",
       "       'Rusia', 'Russia', 'Singapore', 'Slovakia', 'South Korea', 'Spain',\n",
       "       'Switzerland', 'Thailand', 'Turkey', 'USA', 'United Arab Emirates',\n",
       "       'United Kingdom', 'Vietnam'], dtype=object)"
      ]
     },
     "execution_count": 511,
     "metadata": {},
     "output_type": "execute_result"
    }
   ],
   "source": [
    "#Países que participan en las importaciones y exportaciones\n",
    "countries = np.unique(df[['origin', 'destination']])\n",
    "countries"
   ]
  },
  {
   "cell_type": "code",
   "execution_count": 548,
   "metadata": {},
   "outputs": [],
   "source": [
    "#Obtener valores totales de importación y exportación por país\n",
    "countries_values = []\n",
    "for country in countries:\n",
    "    country_info = []\n",
    "    country_info.append(country)\n",
    "    country_info.append(df[np.logical_or(df['origin'] == country, df['destination'] == country)]['total_value'].sum())\n",
    "    countries_values.append(country_info)"
   ]
  },
  {
   "cell_type": "code",
   "execution_count": 689,
   "metadata": {},
   "outputs": [
    {
     "data": {
      "text/html": [
       "<div>\n",
       "<style scoped>\n",
       "    .dataframe tbody tr th:only-of-type {\n",
       "        vertical-align: middle;\n",
       "    }\n",
       "\n",
       "    .dataframe tbody tr th {\n",
       "        vertical-align: top;\n",
       "    }\n",
       "\n",
       "    .dataframe thead th {\n",
       "        text-align: right;\n",
       "    }\n",
       "</style>\n",
       "<table border=\"1\" class=\"dataframe\">\n",
       "  <thead>\n",
       "    <tr style=\"text-align: right;\">\n",
       "      <th></th>\n",
       "      <th>País</th>\n",
       "      <th>Total</th>\n",
       "    </tr>\n",
       "  </thead>\n",
       "  <tbody>\n",
       "    <tr>\n",
       "      <th>7</th>\n",
       "      <td>China</td>\n",
       "      <td>59042038000</td>\n",
       "    </tr>\n",
       "    <tr>\n",
       "      <th>16</th>\n",
       "      <td>Mexico</td>\n",
       "      <td>43249770000</td>\n",
       "    </tr>\n",
       "    <tr>\n",
       "      <th>31</th>\n",
       "      <td>USA</td>\n",
       "      <td>40563715000</td>\n",
       "    </tr>\n",
       "    <tr>\n",
       "      <th>14</th>\n",
       "      <td>Japan</td>\n",
       "      <td>34648128000</td>\n",
       "    </tr>\n",
       "    <tr>\n",
       "      <th>10</th>\n",
       "      <td>Germany</td>\n",
       "      <td>32005684000</td>\n",
       "    </tr>\n",
       "  </tbody>\n",
       "</table>\n",
       "</div>"
      ],
      "text/plain": [
       "       País        Total\n",
       "7     China  59042038000\n",
       "16   Mexico  43249770000\n",
       "31      USA  40563715000\n",
       "14    Japan  34648128000\n",
       "10  Germany  32005684000"
      ]
     },
     "execution_count": 689,
     "metadata": {},
     "output_type": "execute_result"
    }
   ],
   "source": [
    "#Construcción de dataframe con los países con mayor aporte encabezando la tabla\n",
    "totalPerCountry = pd.DataFrame(countries_values, columns = ['País', 'Total']).sort_values('Total', ascending = False)\n",
    "totalPerCountry.head(5)"
   ]
  },
  {
   "cell_type": "code",
   "execution_count": 565,
   "metadata": {},
   "outputs": [
    {
     "data": {
      "text/plain": [
       "431382596000"
      ]
     },
     "execution_count": 565,
     "metadata": {},
     "output_type": "execute_result"
    }
   ],
   "source": [
    "#Total generado por todos los países en importación y exportación\n",
    "total = totalPerCountry['Total'].sum()\n",
    "total"
   ]
  },
  {
   "cell_type": "code",
   "execution_count": 666,
   "metadata": {},
   "outputs": [
    {
     "name": "stdout",
     "output_type": "stream",
     "text": [
      "0.13686699126823373\n",
      "0.23712548662950694\n",
      "0.3311573631496251\n",
      "0.4114761528302361\n",
      "0.48566941954236836\n",
      "0.5455508664053753\n",
      "0.6053142440637544\n",
      "0.6422077561052092\n",
      "0.67857310822062\n",
      "0.7133908758803983\n",
      "0.7460347519444201\n",
      "0.7755770031111779\n",
      "0.8042132789242151\n",
      "Los países que generan el 80% del total son:\n",
      "['China', 'Mexico', 'USA', 'Japan', 'Germany', 'South Korea', 'France', 'Russia', 'Belgium', 'Canada', 'Thailand', 'Italy', 'Spain']\n"
     ]
    }
   ],
   "source": [
    "#Lista - Países que generan el 80% del valor\n",
    "countries_80 = []\n",
    "percentage = 0\n",
    "cumsum = 0\n",
    "index = 0\n",
    "while percentage <= .8: \n",
    "    cumsum += totalPerCountry.iloc[index]['Total']\n",
    "    percentage = cumsum / total\n",
    "    countries_80.append(totalPerCountry.iloc[index]['País'])\n",
    "    index += 1\n",
    "    print(percentage)\n",
    "    \n",
    "print('Los países que generan el 80% del total son:\\n{}'.format(countries_80))"
   ]
  }
 ],
 "metadata": {
  "interpreter": {
   "hash": "38d51dd8e8d25c2b4859ddf5fde4d8615b38902fd48d30a19bf46ddb81d406a6"
  },
  "kernelspec": {
   "display_name": "Python 3.9.10 64-bit (windows store)",
   "language": "python",
   "name": "python3"
  },
  "language_info": {
   "codemirror_mode": {
    "name": "ipython",
    "version": 3
   },
   "file_extension": ".py",
   "mimetype": "text/x-python",
   "name": "python",
   "nbconvert_exporter": "python",
   "pygments_lexer": "ipython3",
   "version": "3.9.10"
  },
  "orig_nbformat": 4
 },
 "nbformat": 4,
 "nbformat_minor": 2
}
